{
 "cells": [
  {
   "cell_type": "code",
   "execution_count": 32,
   "metadata": {},
   "outputs": [
    {
     "name": "stdout",
     "output_type": "stream",
     "text": [
      "Requirement already satisfied: uv in /opt/homebrew/Caskroom/miniconda/base/envs/personal/lib/python3.11/site-packages (0.5.6)\n"
     ]
    }
   ],
   "source": [
    "!pip install uv\n",
    "!uv pip install mistralai datasets python-dotenv pillow rich -q"
   ]
  },
  {
   "cell_type": "code",
   "execution_count": 33,
   "metadata": {},
   "outputs": [],
   "source": [
    "import base64\n",
    "from mistralai import Mistral\n",
    "from dotenv import load_dotenv\n",
    "from pathlib import Path\n",
    "from PIL import Image\n",
    "import os\n",
    "from io import BytesIO\n",
    "from datasets import load_dataset\n",
    "from IPython.display import display, Image as IPythonImage\n",
    "from rich import print\n",
    "\n",
    "load_dotenv()\n",
    "PathLike = Path | str"
   ]
  },
  {
   "cell_type": "code",
   "execution_count": 21,
   "metadata": {},
   "outputs": [],
   "source": [
    "# Retrieve the API key from environment variables\n",
    "api_key = os.environ[\"MISTRAL_API_KEY\"]\n",
    "\n",
    "# Specify model\n",
    "model = \"pixtral-12b-2409\"\n",
    "\n",
    "# Initialize the Mistral client\n",
    "client = Mistral(api_key=api_key)"
   ]
  },
  {
   "cell_type": "code",
   "execution_count": 22,
   "metadata": {},
   "outputs": [],
   "source": [
    "\n",
    "\n",
    "ds = load_dataset(\"tomytjandra/h-and-m-fashion-caption\", split=\"train\")"
   ]
  },
  {
   "cell_type": "code",
   "execution_count": 23,
   "metadata": {},
   "outputs": [],
   "source": [
    "# Choose the first 1000 samples\n",
    "ds = ds.select(range(1000))\n"
   ]
  },
  {
   "cell_type": "code",
   "execution_count": 24,
   "metadata": {},
   "outputs": [],
   "source": [
    "def encode_pil_to_base64(pil_image):\n",
    "    \"\"\"\n",
    "    Convert a PIL Image to base64 encoded string.\n",
    "\n",
    "    Args:\n",
    "        pil_image: PIL Image object\n",
    "\n",
    "    Returns:\n",
    "        str: base64 encoded string of the image\n",
    "    \"\"\"\n",
    "    # Create a bytes buffer to hold the image data\n",
    "    buffered = BytesIO()\n",
    "\n",
    "    # Save the image to the buffer in JPEG format\n",
    "    # You can adjust format and quality as needed\n",
    "    pil_image.save(buffered, format=\"JPEG\", quality=95)\n",
    "\n",
    "    # Get the bytes from the buffer\n",
    "    img_bytes = buffered.getvalue()\n",
    "\n",
    "    # Encode to base64 and convert to string\n",
    "    img_base64 = base64.b64encode(img_bytes).decode(\"utf-8\")\n",
    "\n",
    "    return f\"data:image/jpeg;base64,{img_base64}\""
   ]
  },
  {
   "cell_type": "code",
   "execution_count": 42,
   "metadata": {},
   "outputs": [],
   "source": [
    "\n",
    "def display_record(record):\n",
    "    \"\"\"\n",
    "    Display a PIL Image inline in Jupyter notebook.\n",
    "    \n",
    "    Args:\n",
    "        pil_image: PIL Image object\n",
    "    \"\"\"\n",
    "    # Create a bytes buffer\n",
    "    buffered = BytesIO()\n",
    "    pil_image = record[\"image\"]\n",
    "    # Save the image to the buffer\n",
    "    pil_image.save(buffered, format=\"JPEG\")\n",
    "    \n",
    "    # Create IPython image object\n",
    "    ipython_image = IPythonImage(data=buffered.getvalue())\n",
    "    \n",
    "    # Display inline\n",
    "    display(ipython_image), print(record[\"text\"])"
   ]
  },
  {
   "cell_type": "code",
   "execution_count": 41,
   "metadata": {},
   "outputs": [
    {
     "data": {
      "text/html": [
       "<pre style=\"white-space:pre;overflow-x:auto;line-height:normal;font-family:Menlo,'DejaVu Sans Mono',consolas,'Courier New',monospace\">```json\n",
       "<span style=\"font-weight: bold\">{</span>\n",
       "  <span style=\"color: #008000; text-decoration-color: #008000\">\"attributes\"</span>: <span style=\"font-weight: bold\">[</span>\n",
       "    <span style=\"font-weight: bold\">{</span>\n",
       "      <span style=\"color: #008000; text-decoration-color: #008000\">\"attribute\"</span>: <span style=\"color: #008000; text-decoration-color: #008000\">\"color\"</span>,\n",
       "      <span style=\"color: #008000; text-decoration-color: #008000\">\"values\"</span>: <span style=\"font-weight: bold\">[</span><span style=\"color: #008000; text-decoration-color: #008000\">\"dark blue\"</span><span style=\"font-weight: bold\">]</span>\n",
       "    <span style=\"font-weight: bold\">}</span>,\n",
       "    <span style=\"font-weight: bold\">{</span>\n",
       "      <span style=\"color: #008000; text-decoration-color: #008000\">\"attribute\"</span>: <span style=\"color: #008000; text-decoration-color: #008000\">\"material\"</span>,\n",
       "      <span style=\"color: #008000; text-decoration-color: #008000\">\"values\"</span>: <span style=\"font-weight: bold\">[</span><span style=\"color: #008000; text-decoration-color: #008000\">\"jersey\"</span><span style=\"font-weight: bold\">]</span>\n",
       "    <span style=\"font-weight: bold\">}</span>,\n",
       "    <span style=\"font-weight: bold\">{</span>\n",
       "      <span style=\"color: #008000; text-decoration-color: #008000\">\"attribute\"</span>: <span style=\"color: #008000; text-decoration-color: #008000\">\"style\"</span>,\n",
       "      <span style=\"color: #008000; text-decoration-color: #008000\">\"values\"</span>: <span style=\"font-weight: bold\">[</span><span style=\"color: #008000; text-decoration-color: #008000\">\"long t-shirt\"</span><span style=\"font-weight: bold\">]</span>\n",
       "    <span style=\"font-weight: bold\">}</span>,\n",
       "    <span style=\"font-weight: bold\">{</span>\n",
       "      <span style=\"color: #008000; text-decoration-color: #008000\">\"attribute\"</span>: <span style=\"color: #008000; text-decoration-color: #008000\">\"sleeve design\"</span>,\n",
       "      <span style=\"color: #008000; text-decoration-color: #008000\">\"values\"</span>: <span style=\"font-weight: bold\">[</span><span style=\"color: #008000; text-decoration-color: #008000\">\"sewn-in turn-ups\"</span><span style=\"font-weight: bold\">]</span>\n",
       "    <span style=\"font-weight: bold\">}</span>\n",
       "  <span style=\"font-weight: bold\">]</span>\n",
       "<span style=\"font-weight: bold\">}</span>\n",
       "```\n",
       "</pre>\n"
      ],
      "text/plain": [
       "```json\n",
       "\u001b[1m{\u001b[0m\n",
       "  \u001b[32m\"attributes\"\u001b[0m: \u001b[1m[\u001b[0m\n",
       "    \u001b[1m{\u001b[0m\n",
       "      \u001b[32m\"attribute\"\u001b[0m: \u001b[32m\"color\"\u001b[0m,\n",
       "      \u001b[32m\"values\"\u001b[0m: \u001b[1m[\u001b[0m\u001b[32m\"dark blue\"\u001b[0m\u001b[1m]\u001b[0m\n",
       "    \u001b[1m}\u001b[0m,\n",
       "    \u001b[1m{\u001b[0m\n",
       "      \u001b[32m\"attribute\"\u001b[0m: \u001b[32m\"material\"\u001b[0m,\n",
       "      \u001b[32m\"values\"\u001b[0m: \u001b[1m[\u001b[0m\u001b[32m\"jersey\"\u001b[0m\u001b[1m]\u001b[0m\n",
       "    \u001b[1m}\u001b[0m,\n",
       "    \u001b[1m{\u001b[0m\n",
       "      \u001b[32m\"attribute\"\u001b[0m: \u001b[32m\"style\"\u001b[0m,\n",
       "      \u001b[32m\"values\"\u001b[0m: \u001b[1m[\u001b[0m\u001b[32m\"long t-shirt\"\u001b[0m\u001b[1m]\u001b[0m\n",
       "    \u001b[1m}\u001b[0m,\n",
       "    \u001b[1m{\u001b[0m\n",
       "      \u001b[32m\"attribute\"\u001b[0m: \u001b[32m\"sleeve design\"\u001b[0m,\n",
       "      \u001b[32m\"values\"\u001b[0m: \u001b[1m[\u001b[0m\u001b[32m\"sewn-in turn-ups\"\u001b[0m\u001b[1m]\u001b[0m\n",
       "    \u001b[1m}\u001b[0m\n",
       "  \u001b[1m]\u001b[0m\n",
       "\u001b[1m}\u001b[0m\n",
       "```\n"
      ]
     },
     "metadata": {},
     "output_type": "display_data"
    }
   ],
   "source": [
    "def prepare_messages(record):\n",
    "    messages = [\n",
    "        {\n",
    "            \"role\": \"system\",\n",
    "            \"content\": \"Return the answer in a JSON object with the next structure: \"\n",
    "            '{\"attributes\": [{\"attribute\": \"some name of attribute1\", '\n",
    "            '\"values\": [\"some value of attribute 1\", \"some value of attribute 1\"]}, '\n",
    "            '{\"attribute\": \"some name of attribute2\", \"values\": '\n",
    "            '[\"some value of attribute 2\", \"some value of attribute 2\"]}]}',\n",
    "        },\n",
    "        {\n",
    "            \"role\": \"user\",\n",
    "            \"content\": \"Describe the image and text for an e-commerce catalog. Include all the attributes and values that are present in the image. For instance, collar, sleeves, etc.\",\n",
    "        },\n",
    "        {\n",
    "            \"role\": \"user\",\n",
    "            \"content\": [\n",
    "                {\n",
    "                    \"type\": \"image_url\",\n",
    "                    \"image_url\": encode_pil_to_base64(record[\"image\"]),\n",
    "                }\n",
    "            ],\n",
    "        },\n",
    "        {\n",
    "            \"role\": \"user\",\n",
    "            \"content\": record[\"text\"],\n",
    "        },\n",
    "    ]\n",
    "    return messages\n",
    "\n",
    "\n",
    "record = ds[37]\n",
    "display_record(record)\n",
    "\n",
    "# Get the chat response\n",
    "chat_response = client.chat.complete(model=model, messages=prepare_messages(record))\n",
    "\n",
    "# Print the content of the response\n",
    "print(chat_response.choices[0].message.content)"
   ]
  }
 ],
 "metadata": {
  "kernelspec": {
   "display_name": "personal",
   "language": "python",
   "name": "python3"
  },
  "language_info": {
   "codemirror_mode": {
    "name": "ipython",
    "version": 3
   },
   "file_extension": ".py",
   "mimetype": "text/x-python",
   "name": "python",
   "nbconvert_exporter": "python",
   "pygments_lexer": "ipython3",
   "version": "3.11.9"
  }
 },
 "nbformat": 4,
 "nbformat_minor": 2
}
